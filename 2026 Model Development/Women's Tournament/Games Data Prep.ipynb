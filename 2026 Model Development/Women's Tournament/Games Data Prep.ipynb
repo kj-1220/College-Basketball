{
 "cells": [
  {
   "cell_type": "code",
   "execution_count": 34,
   "id": "0bfc981b-4a2d-44df-bf1f-d46b39973c5f",
   "metadata": {},
   "outputs": [
    {
     "name": "stdout",
     "output_type": "stream",
     "text": [
      "(336, 8)\n",
      "(1782, 26)\n",
      "(336, 33)\n"
     ]
    }
   ],
   "source": [
    "import pandas as pd\n",
    "\n",
    "teams = pd.read_csv('wncaat_teams_historical.csv')\n",
    "print(teams.shape)\n",
    "torvik = pd.read_csv('torvik_women_historical.csv')\n",
    "print(torvik.shape)\n",
    "df = pd.merge(teams, torvik, on='torvik_id', how='inner')\n",
    "print(df.shape)\n",
    "\n",
    "df = df[[\n",
    " 'team_id',\n",
    " 'wab',\n",
    " 'barthag',\n",
    " 'adj_oe',\n",
    " 'adj_de',\n",
    " 'efg_pct',\n",
    " 'efgd_pct',\n",
    " 'tor',\n",
    " 'tord',\n",
    " 'orb_pct',\n",
    " 'drb_pct',\n",
    " 'ftr',\n",
    " 'ftrd',\n",
    " '2p_pct',\n",
    " '2pd_pct',\n",
    " '3p_pct',\n",
    " '3pd_pct',\n",
    " '3pr',\n",
    " '3prd',\n",
    " 'adj_tempo'\n",
    "]]"
   ]
  },
  {
   "cell_type": "code",
   "execution_count": 35,
   "id": "427c3978-9176-43d0-b760-f26b452d4ebb",
   "metadata": {
    "scrolled": true
   },
   "outputs": [],
   "source": [
    "df['adj_de']   = 200 - df['adj_de']\n",
    "df['efgd_pct'] = 100 - df['efgd_pct']\n",
    "df['tord']     = 100 - df['tord']\n",
    "df['drb_pct']  = 100 - df['drb_pct']\n",
    "df['ftrd']     = 100 - df['ftrd']\n",
    "df['2pd_pct']  = 100 - df['2pd_pct']\n",
    "df['3pd_pct']  = 100 - df['3pd_pct'] \n",
    "df['3prd']     = 100 - df['3prd'] "
   ]
  },
  {
   "cell_type": "code",
   "execution_count": 36,
   "id": "188415f8-a445-49dc-a415-bf5d50df40d0",
   "metadata": {},
   "outputs": [
    {
     "name": "stdout",
     "output_type": "stream",
     "text": [
      "(630, 15)\n",
      "(630, 55)\n"
     ]
    }
   ],
   "source": [
    "games = pd.read_csv('wncaat_games_historical.csv')\n",
    "print(games.shape)\n",
    "matchups = pd.merge(games, df, left_on='high_team_id', right_on='team_id', how='inner')\n",
    "matchups = matchups.rename(columns={\n",
    " 'wab': 'high_wab',\n",
    " 'barthag': 'high_barthag',\n",
    " 'adj_oe': 'high_adj_oe',\n",
    " 'adj_de': 'high_adj_de',\n",
    " 'efg_pct': 'high_efg_pct',\n",
    " 'efgd_pct': 'high_efgd_pct',\n",
    " 'tor': 'high_tor',\n",
    " 'tord': 'high_tord',\n",
    " 'orb_pct': 'high_orb_pct',\n",
    " 'drb_pct': 'high_drb_pct',\n",
    " 'ftr': 'high_ftr',\n",
    " 'ftrd': 'high_ftrd',\n",
    " '2p_pct': 'high_2p_pct',\n",
    " '2pd_pct': 'high_2pd_pct',\n",
    " '3p_pct': 'high_3p_pct',\n",
    " '3pd_pct': 'high_3pd_pct',\n",
    " '3pr': 'high_3pr',\n",
    " '3prd': 'high_3prd',\n",
    " 'adj_tempo': 'high_adj_tempo'\n",
    "})\n",
    "matchups = pd.merge(matchups, df, left_on='low_team_id', right_on='team_id', how='inner')\n",
    "matchups = matchups.rename(columns={\n",
    " 'wab': 'low_wab',\n",
    " 'barthag': 'low_barthag',\n",
    " 'adj_oe': 'low_adj_oe',\n",
    " 'adj_de': 'low_adj_de',\n",
    " 'efg_pct': 'low_efg_pct',\n",
    " 'efgd_pct': 'low_efgd_pct',\n",
    " 'tor': 'low_tor',\n",
    " 'tord': 'low_tord',\n",
    " 'orb_pct': 'low_orb_pct',\n",
    " 'drb_pct': 'low_drb_pct',\n",
    " 'ftr': 'low_ftr',\n",
    " 'ftrd': 'low_ftrd',\n",
    " '2p_pct': 'low_2p_pct',\n",
    " '2pd_pct': 'low_2pd_pct',\n",
    " '3p_pct': 'low_3p_pct',\n",
    " '3pd_pct': 'low_3pd_pct',\n",
    " '3pr': 'low_3pr',\n",
    " '3prd': 'low_3prd',\n",
    " 'adj_tempo': 'low_adj_tempo'\n",
    "})\n",
    "print(matchups.shape)"
   ]
  },
  {
   "cell_type": "code",
   "execution_count": 41,
   "id": "a699dc1c-210f-4299-afbb-9a6efb5b5e05",
   "metadata": {},
   "outputs": [],
   "source": [
    "matchups_final = pd.DataFrame()\n",
    "matchups_final['year']              = matchups['year']\n",
    "matchups_final['region']            = matchups['region']\n",
    "matchups_final['round']             = matchups['round']\n",
    "matchups_final['high_bracket_seed'] = matchups['high_bracket_seed']\n",
    "matchups_final['high_team_id']      = matchups['high_team_id']\n",
    "matchups_final['low_bracket_seed']  = matchups['low_bracket_seed']\n",
    "matchups_final['low_team_id']       = matchups['low_team_id']\n",
    "matchups_final['win']               = matchups['win']\n",
    "matchups_final['wab']       = matchups['high_wab']      - matchups['low_wab']\n",
    "matchups_final['barthag']   = matchups['high_barthag']  - matchups['low_barthag']\n",
    "matchups_final['adj_oe']    = matchups['high_adj_oe']   - matchups['low_adj_de']\n",
    "matchups_final['adj_de']    = matchups['high_adj_de']   - matchups['low_adj_oe']\n",
    "matchups_final['efg_pct']   = matchups['high_efg_pct']  - matchups['low_efgd_pct']\n",
    "matchups_final['efgd_pct']  = matchups['high_efgd_pct'] - matchups['low_efg_pct']\n",
    "matchups_final['tor']       = matchups['high_tor']      - matchups['low_tord']\n",
    "matchups_final['tord']      = matchups['high_tord']     - matchups['low_tor']\n",
    "matchups_final['orb_pct']   = matchups['high_orb_pct']  - matchups['low_drb_pct']\n",
    "matchups_final['drb_pct']   = matchups['high_drb_pct']  - matchups['low_orb_pct']\n",
    "matchups_final['ftr']       = matchups['high_ftr']      - matchups['low_ftrd']\n",
    "matchups_final['ftrd']      = matchups['high_ftrd']     - matchups['low_ftr']\n",
    "matchups_final['2p_pct']    = matchups['high_2p_pct']   - matchups['low_2pd_pct']\n",
    "matchups_final['2pd_pct']   = matchups['high_2pd_pct']  - matchups['low_2p_pct']\n",
    "matchups_final['3p_pct']    = matchups['high_3p_pct']   - matchups['low_3pd_pct']\n",
    "matchups_final['3pd_pct']   = matchups['high_3pd_pct']  - matchups['low_3p_pct']\n",
    "matchups_final['3pr']       = matchups['high_3pr']      - matchups['low_3prd']\n",
    "matchups_final['3prd']      = matchups['high_3prd']     - matchups['low_3pr']\n",
    "matchups_final['adj_tempo'] = matchups['high_adj_tempo']- matchups['low_adj_tempo']"
   ]
  },
  {
   "cell_type": "code",
   "execution_count": 43,
   "id": "058895c3-afb2-4d92-95a3-e15166d01743",
   "metadata": {},
   "outputs": [],
   "source": [
    "early_df = matchups_final[matchups_final['round'].isin(['First Round', 'Second Round'])]\n",
    "early_df.to_csv('games_early.csv')\n",
    "elite_df = matchups_final[matchups_final['round'].isin(['Sweet 16', 'Elite Eight', 'Final Four', 'Championship'])]\n",
    "elite_df.to_csv('games_elite.csv')"
   ]
  },
  {
   "cell_type": "code",
   "execution_count": null,
   "id": "433e2045-d7a8-4a5d-9d4a-5b49d03915c7",
   "metadata": {},
   "outputs": [],
   "source": []
  }
 ],
 "metadata": {
  "kernelspec": {
   "display_name": "Python 3 (ipykernel)",
   "language": "python",
   "name": "python3"
  },
  "language_info": {
   "codemirror_mode": {
    "name": "ipython",
    "version": 3
   },
   "file_extension": ".py",
   "mimetype": "text/x-python",
   "name": "python",
   "nbconvert_exporter": "python",
   "pygments_lexer": "ipython3",
   "version": "3.8.20"
  }
 },
 "nbformat": 4,
 "nbformat_minor": 5
}
